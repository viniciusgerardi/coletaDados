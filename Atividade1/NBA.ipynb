{
 "cells": [
  {
   "attachments": {},
   "cell_type": "markdown",
   "metadata": {},
   "source": [
    "# Primeiro teste NBA de coleta de dados"
   ]
  },
  {
   "cell_type": "markdown",
   "metadata": {},
   "source": [
    "## Implementando o tutorial"
   ]
  },
  {
   "cell_type": "markdown",
   "metadata": {},
   "source": [
    "Importando as bibliotecas"
   ]
  },
  {
   "cell_type": "code",
   "execution_count": 24,
   "metadata": {},
   "outputs": [],
   "source": [
    "import pandas as pd\n",
    "import requests\n",
    "from bs4 import BeautifulSoup"
   ]
  },
  {
   "cell_type": "markdown",
   "metadata": {},
   "source": [
    "Importando dados de 2018"
   ]
  },
  {
   "cell_type": "code",
   "execution_count": 25,
   "metadata": {},
   "outputs": [
    {
     "name": "stdout",
     "output_type": "stream",
     "text": [
      "Requisição bem sucedida!\n"
     ]
    }
   ],
   "source": [
    "req = requests.get('https://www.basketball-reference.com/leagues/NBA_2018_totals.html')\n",
    "if req.status_code == 200:\n",
    "    print('Requisição bem sucedida!')\n",
    "    content = req.content"
   ]
  },
  {
   "cell_type": "markdown",
   "metadata": {},
   "source": [
    "Criando objeto para salvar os dados"
   ]
  },
  {
   "cell_type": "code",
   "execution_count": 26,
   "metadata": {},
   "outputs": [],
   "source": [
    "soup = BeautifulSoup(content, 'html.parser')\n",
    "table = soup.find(name='table')"
   ]
  },
  {
   "cell_type": "markdown",
   "metadata": {},
   "source": [
    "Carregando os dados no Data Frame"
   ]
  },
  {
   "cell_type": "code",
   "execution_count": 27,
   "metadata": {},
   "outputs": [],
   "source": [
    "table_str = str(table)\n",
    "df = pd.read_html(table_str)[0]"
   ]
  },
  {
   "cell_type": "markdown",
   "metadata": {},
   "source": [
    "Obtendo as estatísticas entre 2013 e 2018"
   ]
  },
  {
   "cell_type": "markdown",
   "metadata": {},
   "source": [
    "Implementando o método"
   ]
  },
  {
   "cell_type": "code",
   "execution_count": 28,
   "metadata": {},
   "outputs": [],
   "source": [
    "def scrape_stats(base_url, year_start, year_end):\n",
    "    years = range(year_start,year_end+1,1)\n",
    "\n",
    "    final_df = pd.DataFrame()\n",
    "\n",
    "    for year in years:\n",
    "        print('Extraindo ano {}'.format(year))\n",
    "        req_url = base_url.format(year)\n",
    "        req = requests.get(req_url)\n",
    "        soup = BeautifulSoup(req.content, 'html.parser')\n",
    "        table = soup.find('table', {'id':'totals_stats'})\n",
    "        df = pd.read_html(str(table))[0]\n",
    "        df['Year'] = year\n",
    "        final_df = final_df.append(df)\n",
    "    return final_df"
   ]
  },
  {
   "cell_type": "markdown",
   "metadata": {},
   "source": [
    "Executando o método"
   ]
  },
  {
   "cell_type": "code",
   "execution_count": 29,
   "metadata": {},
   "outputs": [
    {
     "name": "stdout",
     "output_type": "stream",
     "text": [
      "Extraindo ano 2013\n",
      "Extraindo ano 2014\n",
      "Extraindo ano 2015\n",
      "Extraindo ano 2016\n",
      "Extraindo ano 2017\n",
      "Extraindo ano 2018\n"
     ]
    }
   ],
   "source": [
    "url = 'https://www.basketball-reference.com/leagues/NBA_{}_totals.html'\n",
    "\n",
    "df = scrape_stats(url, 2013, 2018)"
   ]
  },
  {
   "cell_type": "markdown",
   "metadata": {},
   "source": [
    "Limpando os dados"
   ]
  },
  {
   "cell_type": "code",
   "execution_count": 30,
   "metadata": {},
   "outputs": [],
   "source": [
    "drop_indexes = df[df['Rk'] == 'Rk'].index # Pega indexes onde a coluna 'Rk' possui valor 'Rk'\n",
    "df.drop(drop_indexes, inplace=True) # elimina os valores dos index passados da tabela"
   ]
  },
  {
   "cell_type": "markdown",
   "metadata": {},
   "source": [
    "Convertendo os dados da tabela para valores numéricos"
   ]
  },
  {
   "cell_type": "code",
   "execution_count": 31,
   "metadata": {},
   "outputs": [],
   "source": [
    "numeric_cols = df.columns.drop(['Player','Pos','Tm'])\n",
    "df[numeric_cols] = df[numeric_cols].apply(pd.to_numeric)"
   ]
  },
  {
   "cell_type": "markdown",
   "metadata": {},
   "source": [
    "Criando gráfico de barras"
   ]
  },
  {
   "cell_type": "code",
   "execution_count": 32,
   "metadata": {},
   "outputs": [
    {
     "data": {
      "text/plain": [
       "<AxesSubplot:xlabel='Year', ylabel='3PA'>"
      ]
     },
     "execution_count": 32,
     "metadata": {},
     "output_type": "execute_result"
    },
    {
     "data": {
      "image/png": "[encoded data removed]",
      "text/plain": [
       "<Figure size 432x288 with 1 Axes>"
      ]
     },
     "metadata": {
      "needs_background": "light"
     },
     "output_type": "display_data"
    }
   ],
   "source": [
    "import matplotlib.pyplot as plt\n",
    "import seaborn as sns\n",
    "\n",
    "sns.barplot(x='Year', y='3PA', data=df)"
   ]
  },
  {
   "cell_type": "markdown",
   "metadata": {},
   "source": [
    "---"
   ]
  },
  {
   "cell_type": "markdown",
   "metadata": {},
   "source": [
    "## Ampliando a pesquisa para incluir dados até o ano de 2020"
   ]
  },
  {
   "cell_type": "markdown",
   "metadata": {},
   "source": [
    "Estou utilizando o método **scrape_stats** criado na primeira coleta, porém alterando os parâmentros para irmos até o ano de 2020"
   ]
  },
  {
   "cell_type": "code",
   "execution_count": 33,
   "metadata": {},
   "outputs": [
    {
     "name": "stdout",
     "output_type": "stream",
     "text": [
      "Extraindo ano 2013\n",
      "Extraindo ano 2014\n",
      "Extraindo ano 2015\n",
      "Extraindo ano 2016\n",
      "Extraindo ano 2017\n",
      "Extraindo ano 2018\n",
      "Extraindo ano 2019\n",
      "Extraindo ano 2020\n"
     ]
    }
   ],
   "source": [
    "url = 'https://www.basketball-reference.com/leagues/NBA_{}_totals.html'\n",
    "\n",
    "df = scrape_stats(url, 2013, 2020)"
   ]
  },
  {
   "cell_type": "markdown",
   "metadata": {},
   "source": [
    "Limpando os dados e convertendo os as informações da tabela para valores numéricos"
   ]
  },
  {
   "cell_type": "code",
   "execution_count": 34,
   "metadata": {},
   "outputs": [],
   "source": [
    "drop_indexes = df[df['Rk'] == 'Rk'].index # Pega indexes onde a coluna 'Rk' possui valor 'Rk'\n",
    "df.drop(drop_indexes, inplace=True) # elimina os valores dos index passados da tabela\n",
    "numeric_cols = df.columns.drop(['Player','Pos','Tm'])\n",
    "df[numeric_cols] = df[numeric_cols].apply(pd.to_numeric)"
   ]
  },
  {
   "cell_type": "markdown",
   "metadata": {},
   "source": [
    "Refazendo o gráfico de barras"
   ]
  },
  {
   "cell_type": "code",
   "execution_count": 35,
   "metadata": {},
   "outputs": [
    {
     "data": {
      "text/plain": [
       "<AxesSubplot:xlabel='Year', ylabel='3PA'>"
      ]
     },
     "execution_count": 35,
     "metadata": {},
     "output_type": "execute_result"
    },
    {
     "data": {
      "image/png": "[encoded data removed]",
      "text/plain": [
       "<Figure size 432x288 with 1 Axes>"
      ]
     },
     "metadata": {
      "needs_background": "light"
     },
     "output_type": "display_data"
    }
   ],
   "source": [
    "sns.barplot(x='Year', y='3PA', data=df)"
   ]
  },
  {
   "cell_type": "markdown",
   "metadata": {},
   "source": [
    "Criando um Dataset para apresentar os valores no gráfico por linhas. Estou utilizando a função **groupby** do pandas no dataset **df** para agrupar os valores médios da coluna **Year**, e em seguida criando o gráfico de linha."
   ]
  },
  {
   "cell_type": "code",
   "execution_count": 36,
   "metadata": {},
   "outputs": [
    {
     "data": {
      "text/plain": [
       "Text(0, 0.5, 'Média de bolas de 3 pontos')"
      ]
     },
     "execution_count": 36,
     "metadata": {},
     "output_type": "execute_result"
    },
    {
     "data": {
      "image/png": "[encoded data removed]",
      "text/plain": [
       "<Figure size 432x288 with 1 Axes>"
      ]
     },
     "metadata": {
      "needs_background": "light"
     },
     "output_type": "display_data"
    }
   ],
   "source": [
    "dfLinha=df.groupby('Year').mean()\n",
    "\n",
    "sns.lineplot(x='Year', y='3PA', data=dfLinha)\n",
    "plt.title('Média de bolas de 3 pontos arremessadas por ano',fontsize=14,weight='bold')\n",
    "plt.xlabel('Ano')\n",
    "plt.ylabel('Média de bolas de 3 pontos')"
   ]
  },
  {
   "cell_type": "markdown",
   "metadata": {},
   "source": [
    "---\n",
    "\n",
    "Opção com alteração no index do bando de dados original"
   ]
  },
  {
   "cell_type": "code",
   "execution_count": 40,
   "metadata": {},
   "outputs": [
    {
     "data": {
      "text/plain": [
       "Text(0, 0.5, 'Média de bolas de 3 pontos')"
      ]
     },
     "execution_count": 40,
     "metadata": {},
     "output_type": "execute_result"
    },
    {
     "data": {
      "image/png": "[encoded data removed]",
      "text/plain": [
       "<Figure size 432x288 with 1 Axes>"
      ]
     },
     "metadata": {
      "needs_background": "light"
     },
     "output_type": "display_data"
    }
   ],
   "source": [
    "dfReindexado=df[:]\n",
    "dfReindexado.reset_index(inplace=True)\n",
    "\n",
    "sns.lineplot(x='Year', y='3PA', data=dfReindexado)\n",
    "plt.title('Média de bolas de 3 pontos arremessadas por ano',fontsize=14,weight='bold')\n",
    "plt.xlabel('Ano')\n",
    "plt.ylabel('Média de bolas de 3 pontos')"
   ]
  }
 ],
 "metadata": {
  "interpreter": {
   "hash": "64e550d1d00d9658cff43a79a3e9c9ac189b98c1a2d13fcc739f21ed2c169f51"
  },
  "kernelspec": {
   "display_name": "Python 3.9.7 64-bit (windows store)",
   "name": "python3"
  },
  "language_info": {
   "codemirror_mode": {
    "name": "ipython",
    "version": 3
   },
   "file_extension": ".py",
   "mimetype": "text/x-python",
   "name": "python",
   "nbconvert_exporter": "python",
   "pygments_lexer": "ipython3",
   "version": "3.9.8"
  },
  "orig_nbformat": 4
 },
 "nbformat": 4,
 "nbformat_minor": 2
}
